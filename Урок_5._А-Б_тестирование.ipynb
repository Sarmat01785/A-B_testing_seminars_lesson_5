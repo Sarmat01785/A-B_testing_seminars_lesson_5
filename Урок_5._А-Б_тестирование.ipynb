{
 "cells": [
  {
   "cell_type": "markdown",
   "id": "c684f729",
   "metadata": {},
   "source": [
    "# Урок 5. Применение математической статистики для проверки гипотез в реальной жизни для популярных метрик"
   ]
  },
  {
   "cell_type": "markdown",
   "id": "4ced6aa7",
   "metadata": {},
   "source": [
    "### Задача 1. \n",
    "\n",
    "- Вы провели эксперимент c упрощением формы заказа в магазине Утконос и получили результаты по метрике конверсий в покупку.\n",
    "- Выберите метод оценки и оцените есть ли статически значимые различия между конверсиями в двух группах при alpha = 5%. \n",
    "- Дайте краткие рекомендации команде .\n",
    "\n",
    "**Результаты:** \n",
    "1) Число юзеров в группах , которые заходили на сайт в период эксперимента: n1 = 15550 и n2 = 15550 . \n",
    "\n",
    "2) Число юзеров в группах , которые совершили хотя бы одну покупку за период эксперимента: n1 = 164 и n2 = 228 3) Конверсии : conv1 = 1.05% conv2 = 1.47% ."
   ]
  },
  {
   "cell_type": "markdown",
   "id": "07566bb9",
   "metadata": {},
   "source": [
    "### Решение задачи 1."
   ]
  },
  {
   "cell_type": "code",
   "execution_count": 1,
   "id": "fd2a0ede",
   "metadata": {},
   "outputs": [],
   "source": [
    "import numpy as np\n",
    "import matplotlib.pyplot as plt\n",
    "from statsmodels.stats.proportion import proportions_ztest"
   ]
  },
  {
   "cell_type": "code",
   "execution_count": 5,
   "id": "75316678",
   "metadata": {
    "scrolled": true
   },
   "outputs": [
    {
     "name": "stdout",
     "output_type": "stream",
     "text": [
      "Z-statistic: -3.253054722696254\n",
      "P-value: 0.001141715077067056\n",
      "Отвергаем нулевую гипотезу: существуют статистически значимые различия между конверсиями.\n",
      "Рекомендуется рассмотреть упрощение формы заказа, так как это показало повышение конверсии.\n"
     ]
    }
   ],
   "source": [
    "# Число юзеров в группах , которые совершили хотя бы одну покупку за период эксперимента\n",
    "successes = np.array([164, 228])\n",
    "\n",
    "# Размер каждой группы\n",
    "nobs = np.array([15550, 15550])\n",
    "\n",
    "# Конверсии\n",
    "conv = np.array([1.05, 1.47])\n",
    "\n",
    "# Уровень значимости\n",
    "alpha = 0.05\n",
    "\n",
    "# Проведение z-теста\n",
    "z_stat, p_value = proportions_ztest(successes, nobs)\n",
    "\n",
    "print(f'Z-statistic: {z_stat}')\n",
    "print(f'P-value: {p_value}')\n",
    "\n",
    "# Проверка статистической значимости\n",
    "if p_value < alpha:\n",
    "    print(\"Отвергаем нулевую гипотезу: существуют статистически значимые различия между конверсиями.\")\n",
    "    recommendation = \"Рекомендуется рассмотреть упрощение формы заказа, так как это показало повышение конверсии.\"\n",
    "else:\n",
    "    print(\"Не отвергаем нулевую гипотезу: нет достаточных доказательств статистически значимых различий между конверсиями.\")\n",
    "    recommendation = \"Рекомендуется дополнительно исследовать влияние упрощения формы заказа, так как статистически значимое улучшение не обнаружено.\"\n",
    "\n",
    "print(recommendation)"
   ]
  },
  {
   "cell_type": "code",
   "execution_count": 4,
   "id": "a5519a4f",
   "metadata": {
    "scrolled": true
   },
   "outputs": [
    {
     "data": {
      "image/png": "[encoded data removed]",
      "text/plain": [
       "<Figure size 640x480 with 1 Axes>"
      ]
     },
     "metadata": {},
     "output_type": "display_data"
    }
   ],
   "source": [
    "# Визуализация\n",
    "groups = ['Группа A', 'Группа B']\n",
    "y_pos = np.arange(len(groups))\n",
    "\n",
    "plt.bar(y_pos, conv, align='center', alpha=0.7, color=['blue', 'green'])\n",
    "plt.xticks(y_pos, groups)\n",
    "plt.ylabel('Конверсия (%)')\n",
    "plt.title('Конверсия по группам A/B-тестирования')\n",
    "\n",
    "for i in range(len(conv)):\n",
    "    plt.text(x = y_pos[i] - 0.1, y = conv[i], s = str(conv[i]) + '%', size = 10)\n",
    "\n",
    "plt.show()"
   ]
  },
  {
   "cell_type": "markdown",
   "id": "dbb3fec9",
   "metadata": {},
   "source": [
    "### Задача 2.\n",
    "Сравниваем метрику конверсия в покупку. Размер выборки - 10000 элементов в каждой группе . Какой статистический критерий тут лучше всего подойдёт и почему ?"
   ]
  },
  {
   "cell_type": "markdown",
   "id": "7a84d336",
   "metadata": {},
   "source": [
    "### Решение задачи 2."
   ]
  },
  {
   "cell_type": "markdown",
   "id": "f0e71016",
   "metadata": {},
   "source": [
    "## Статистический критерий для сравнения конверсий\n",
    "\n",
    "При анализе результатов A/B-тестирования целью является сравнение метрики конверсии в покупку между двумя группами. При размере выборки в 10,000 элементов для каждой группы, подходящим статистическим критерием для этой задачи является **z-тест для двух пропорций** по следующим причинам:\n",
    "\n",
    "1. **Большие выборки:** Z-тест подходит для больших выборок (N > 30), позволяя использовать центральную предельную теорему для приближения распределения выборочных пропорций к нормальному распределению.\n",
    "\n",
    "2. **Сравнение пропорций:** Z-тест является стандартным методом для сравнения пропорций, что делает его идеальным для анализа конверсий.\n",
    "\n",
    "3. **Независимые выборки:** В A/B-тестировании группы обычно независимы, что является одной из предпосылок z-теста.\n",
    "\n",
    "4. **Условия применимости:** Z-тест применяется, когда количество успехов и неудач в каждой группе достаточно велико (n*p и n*(1-p) > 5 для обеих групп), где n — размер выборки, а p — вероятность успеха.\n",
    "\n",
    "Если данные не соответствуют предположениям нормального распределения или не выполняются условия для z-теста, можно использовать альтернативные методы, такие как **точный тест Фишера** или **хи-квадрат тест**. Однако они обычно рекомендуются для меньших выборок или когда условия z-теста не соблюдаются.\n",
    "\n",
    "Таким образом, при условии, что конверсия достаточно велика для выполнения условий применения z-теста, последний является предпочтительным вариантом для сравнения конверсий в группах с размерами выборок в 10,000 элементов.\n"
   ]
  }
 ],
 "metadata": {
  "kernelspec": {
   "display_name": "Python 3 (ipykernel)",
   "language": "python",
   "name": "python3"
  },
  "language_info": {
   "codemirror_mode": {
    "name": "ipython",
    "version": 3
   },
   "file_extension": ".py",
   "mimetype": "text/x-python",
   "name": "python",
   "nbconvert_exporter": "python",
   "pygments_lexer": "ipython3",
   "version": "3.11.5"
  }
 },
 "nbformat": 4,
 "nbformat_minor": 5
}
